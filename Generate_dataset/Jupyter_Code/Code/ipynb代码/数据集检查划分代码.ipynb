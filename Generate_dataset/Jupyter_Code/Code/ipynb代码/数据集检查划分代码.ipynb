{
 "cells": [
  {
   "cell_type": "code",
   "execution_count": 1,
   "metadata": {},
   "outputs": [
    {
     "name": "stdout",
     "output_type": "stream",
     "text": [
      "num_1: 317\n",
      "nozeroarray: [  82   88   93   94  118  124  129  130  304  309  310  340  345  346\n",
      "  525  526  532  561  562  568  736  741  742  772  777  778  952  957\n",
      "  958  988  993  994 1173 1174 1180 1209 1210 1216 1384 1389 1390 1420\n",
      " 1425 1426 1600 1605 1606 1636 1641 1642 1821 1822 1828 1857 1858 1864\n",
      " 2025 2026 2031 2032 2038 2061 2062 2067 2068 2073 2074 2080 2248 2253\n",
      " 2254 2260 2284 2289 2290 2296 2458 2463 2464 2469 2470 2476 2494 2499\n",
      " 2500 2505 2506 2512 2674 2679 2680 2686 2710 2715 2716 2721 2722 2728\n",
      " 2896 2901 2902 2908 2932 2937 2938 2944 3112 3118 3124 3154 3327 3334\n",
      " 3339 3340 3346 3363 3375 3376 3382 3543 3550 3555 3556 3562 3579 3591\n",
      " 3592 3598 3760 3766 3772 3802 3969 3970 3987 3988 3993 3994 4005 4006\n",
      " 4023 4024 4029 4030 4191 4198 4203 4204 4210 4227 4239 4240 4246 4408\n",
      " 4414 4420 4450 4617 4618 4635 4636 4642 4653 4654 4671 4672 4678 4840\n",
      " 4845 4876 4881 5055 5056 5061 5062 5091 5092 5097 5098 5265 5271 5272\n",
      " 5301 5307 5308 5488 5493 5524 5529 5703 5704 5710 5739 5740 5746 5913\n",
      " 5919 5920 5925 5949 5955 5956 5961 6129 6135 6136 6141 6142 6165 6171\n",
      " 6172 6177 6178 6345 6351 6352 6357 6358 6381 6387 6388 6393 6394 6567\n",
      " 6603 6777 6783 6784 6789 6813 6819 6820 6825 7000 7005 7036 7041 7215\n",
      " 7216 7251 7252 7431 7432 7467 7468 7648 7653 7684 7689 7864 7900 8079\n",
      " 8080 8115 8116 8296 8301 8332 8337 8505 8506 8511 8512 8518 8541 8542\n",
      " 8547 8548 8554 8727 8728 8733 8734 8763 8764 8769 8770 8943 8944 8949\n",
      " 8950 8979 8980 8985 8986 9159 9160 9165 9166 9195 9196 9201 9202 9375\n",
      " 9376 9381 9382 9411 9412 9417 9418 9591 9592 9597 9598 9627 9628 9633\n",
      " 9634 9807 9808 9813 9814 9843 9844 9849 9850]\n"
     ]
    }
   ],
   "source": [
    "import numpy as np\n",
    "import os\n",
    "import glob\n",
    "\n",
    "\n",
    "#查找非零标签\n",
    "def nozeroarray_detect(dataindex):\n",
    "    num_1 = 0\n",
    "    nozeroarray = []\n",
    "    for t in range(1, 9937):\n",
    "        data = np.load(os.path.join(dataindex, str(t)+'.npy'))\n",
    "        if np.all(data == 0):\n",
    "            continue\n",
    "        else:\n",
    "            nozeroarray.append(t)\n",
    "            \n",
    "            num_1 += 1\n",
    "    print('num_1:',num_1)\n",
    "    print('nozeroarray:',np.array(nozeroarray))\n",
    "    \n",
    "    return  nozeroarray\n",
    "\n",
    "\n",
    "\n",
    "#数据集划分为negative_sample和positive_sample\n",
    "def dataset_split(nozeroarray, inputdataaddr, saveinputdataaddr):\n",
    "    \n",
    "    inputdataindex = glob.glob(os.path.join(inputdataaddr, '*.npy'))\n",
    "    \n",
    "    for n in range(1, len(inputdataindex)+1):\n",
    "        labeldataaddr = inputdataaddr.replace('input/','label/')\n",
    "        savelabeldataaddr = saveinputdataaddr.replace('input/', 'label/')\n",
    "        inputdata = np.load(os.path.join(inputdataaddr, str(n)+'.npy'))\n",
    "        inputdata = inputdata[np.newaxis, :, :,:]\n",
    "        labeldata = np.load(os.path.join(labeldataaddr, str(n)+'.npy'))\n",
    "        labeldata = labeldata[np.newaxis, :, :,:]\n",
    "        if n in nozeroarray:\n",
    "            np.save(os.path.join(saveinputdataaddr, 'positive_input/'+str(n)+'.npy'), inputdata)\n",
    "            np.save(os.path.join(savelabeldataaddr, 'positive_label/'+str(n)+'.npy'), labeldata)\n",
    "        else:\n",
    "            np.save(os.path.join(saveinputdataaddr, 'negative_input/'+str(n)+'.npy'), inputdata)\n",
    "            np.save(os.path.join(savelabeldataaddr, 'negative_label/'+str(n)+'.npy'), labeldata)\n",
    "\n",
    "if __name__ == \"__main__\":\n",
    "    \n",
    "    inputdataaddr = '../../Data（实验用）/dataset（切割数据集-整体汇总编号）/input/'\n",
    "    \n",
    "    search_nozerodataindex = inputdataaddr.replace('input/', 'label/')\n",
    "    saveinputdataaddr = '../../Data（实验用）/dataset(按正负样本分类)/input/'\n",
    "\n",
    "    nozeroarray = nozeroarray_detect(search_nozerodataindex)\n",
    "    dataset_split(nozeroarray, inputdataaddr, saveinputdataaddr)"
   ]
  },
  {
   "cell_type": "code",
   "execution_count": 6,
   "metadata": {},
   "outputs": [
    {
     "name": "stdout",
     "output_type": "stream",
     "text": [
      "(20, 20, 20)\n",
      "(20, 20, 20)\n"
     ]
    }
   ],
   "source": [
    "import numpy as np\n",
    "import scipy.io as io\n",
    "\n",
    "inputdata = np.load('../../Data（实验用）/dataset(按正负样本分类)/input/positive_input/4618.npy')\n",
    "labeldata = np.load('../../Data（实验用）/dataset(按正负样本分类)/label/positive_label/4618.npy')\n",
    "inputdata = np.squeeze(inputdata)\n",
    "labeldata = np.squeeze(labeldata)\n",
    "print(inputdata.shape)\n",
    "print(labeldata.shape)\n",
    "io.savemat('inputdata.mat',{'inputdata':inputdata})\n",
    "io.savemat('labeldata.mat',{'defectdata':labeldata})"
   ]
  },
  {
   "cell_type": "code",
   "execution_count": 12,
   "metadata": {},
   "outputs": [
    {
     "name": "stdout",
     "output_type": "stream",
     "text": [
      "0.3333333333333333\n",
      "0.38888888888888884\n"
     ]
    }
   ],
   "source": [
    "from sklearn.metrics import f1_score\n",
    " \n",
    "y_pred = [0, 1, 1, 1, 2, 2]\n",
    "y_true = [0, 1, 0, 2, 1, 1]\n",
    " \n",
    "print(f1_score(y_true, y_pred, average='macro'))  \n",
    "print(f1_score(y_true, y_pred, average='weighted')) "
   ]
  },
  {
   "cell_type": "code",
   "execution_count": 30,
   "metadata": {},
   "outputs": [
    {
     "name": "stdout",
     "output_type": "stream",
     "text": [
      "初始x的梯度存储值： None\n",
      "最终x的梯度存储值：\n",
      " tensor([[4.5000, 4.5000],\n",
      "        [4.5000, 4.5000]])\n"
     ]
    }
   ],
   "source": [
    "import torch\n",
    "x = torch.ones(2, 2, requires_grad=True)\n",
    "print('初始x的梯度存储值：',x.grad)\n",
    "y = x + 2\n",
    "z = y * y *3\n",
    "out = z.mean()\n",
    "#调用backward()执行反向梯度计算\n",
    "out.backward()\n",
    "print('最终x的梯度存储值：\\n',x.grad)"
   ]
  },
  {
   "cell_type": "code",
   "execution_count": 24,
   "metadata": {},
   "outputs": [
    {
     "name": "stdout",
     "output_type": "stream",
     "text": [
      "tensor([[3., 3.],\n",
      "        [3., 3.]], grad_fn=<AddBackward0>)\n"
     ]
    }
   ],
   "source": [
    "import torch\n",
    "x = torch.ones(2, 2, requires_grad=True)\n",
    "\n",
    "y = x + 2\n",
    "print(y)"
   ]
  },
  {
   "cell_type": "code",
   "execution_count": 32,
   "metadata": {},
   "outputs": [
    {
     "name": "stdout",
     "output_type": "stream",
     "text": [
      "tensor(2.)\n"
     ]
    }
   ],
   "source": [
    "import torch\n",
    "x = torch.tensor(1., requires_grad=True)\n",
    "y1 = x ** 2\n",
    "with torch.no_grad():\n",
    "\ty2 = x ** 3\n",
    "y3 = y1 + y2\n",
    "\n",
    "y3.backward()\n",
    "print(x.grad)"
   ]
  }
 ],
 "metadata": {
  "kernelspec": {
   "display_name": "pytorch_cpu",
   "language": "python",
   "name": "pytorch_cpu"
  },
  "language_info": {
   "codemirror_mode": {
    "name": "ipython",
    "version": 3
   },
   "file_extension": ".py",
   "mimetype": "text/x-python",
   "name": "python",
   "nbconvert_exporter": "python",
   "pygments_lexer": "ipython3",
   "version": "3.8.16"
  },
  "orig_nbformat": 4
 },
 "nbformat": 4,
 "nbformat_minor": 2
}
