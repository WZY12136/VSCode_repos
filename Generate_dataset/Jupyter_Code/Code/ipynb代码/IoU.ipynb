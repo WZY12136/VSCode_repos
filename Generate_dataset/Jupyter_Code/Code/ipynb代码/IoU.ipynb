{
 "cells": [
  {
   "attachments": {},
   "cell_type": "markdown",
   "metadata": {},
   "source": [
    "IoU实现原理"
   ]
  },
  {
   "cell_type": "code",
   "execution_count": 15,
   "metadata": {},
   "outputs": [
    {
     "name": "stdout",
     "output_type": "stream",
     "text": [
      "array1:\n",
      " [[0 1 1]\n",
      " [0 1 0]\n",
      " [0 1 1]]\n",
      "array2:\n",
      " [[0 1 0]\n",
      " [0 1 0]\n",
      " [0 1 0]]\n",
      "input: [0 1 1 0 1 0 0 1 1]\n",
      "target: [0 1 0 0 1 0 0 1 0]\n",
      "intersection: 3\n",
      "total: 8\n",
      "union: 5\n",
      "IoU: 0.6\n"
     ]
    }
   ],
   "source": [
    "import numpy as np\n",
    "# np.random.seed(0)\n",
    "array1 = np.random.randint(0, 2, (3, 3))\n",
    "print('array1:\\n',array1)\n",
    "array2 = np.random.randint(0, 2, (3, 3))\n",
    "print('array2:\\n',array2)\n",
    "input = array1.reshape(-1)\n",
    "target = array2.reshape(-1)\n",
    "print('input:',input)\n",
    "print('target:',target)\n",
    "intersection = (input * target).sum()\n",
    "print('intersection:',intersection)\n",
    "total = (input + target).sum()\n",
    "print('total:',total)\n",
    "union = total - intersection\n",
    "print('union:',union)\n",
    "IoU = (intersection) / union\n",
    "print('IoU:',IoU)"
   ]
  },
  {
   "cell_type": "code",
   "execution_count": 49,
   "metadata": {},
   "outputs": [
    {
     "ename": "NameError",
     "evalue": "name 'Emotion_kinds' is not defined",
     "output_type": "error",
     "traceback": [
      "\u001b[1;31m---------------------------------------------------------------------------\u001b[0m",
      "\u001b[1;31mNameError\u001b[0m                                 Traceback (most recent call last)",
      "Cell \u001b[1;32mIn[49], line 10\u001b[0m\n\u001b[0;32m      7\u001b[0m     \u001b[39mreturn\u001b[39;00m conf_matrix\n\u001b[0;32m      9\u001b[0m \u001b[39m#首先定义一个 分类数*分类数 的空混淆矩阵\u001b[39;00m\n\u001b[1;32m---> 10\u001b[0m conf_matrix \u001b[39m=\u001b[39m torch\u001b[39m.\u001b[39mzeros(Emotion_kinds, Emotion_kinds)\n\u001b[0;32m     11\u001b[0m \u001b[39m# 使用torch.no_grad()可以显著降低测试用例的GPU占用\u001b[39;00m\n\u001b[0;32m     12\u001b[0m \u001b[39mwith\u001b[39;00m torch\u001b[39m.\u001b[39mno_grad():\n",
      "\u001b[1;31mNameError\u001b[0m: name 'Emotion_kinds' is not defined"
     ]
    }
   ],
   "source": [
    "import torch\n",
    "\n",
    "def confusion_matrix(preds, labels, conf_matrix):\n",
    "    preds = torch.argmax(preds, 1)\n",
    "    for p, t in zip(preds, labels):\n",
    "        conf_matrix[p, t] += 1\n",
    "    return conf_matrix\n",
    "\n",
    "#首先定义一个 分类数*分类数 的空混淆矩阵\n",
    "conf_matrix = torch.zeros(Emotion_kinds, Emotion_kinds)\n",
    "# 使用torch.no_grad()可以显著降低测试用例的GPU占用\n",
    "with torch.no_grad():\n",
    "    for step, (imgs, targets) in enumerate(test_loader):\n",
    "        # imgs:     torch.Size([50, 3, 200, 200])   torch.FloatTensor\n",
    "        # targets:  torch.Size([50, 1]),     torch.LongTensor  多了一维，所以我们要把其去掉\n",
    "        targets = targets.squeeze()  # [50,1] ----->  [50]\n",
    "\n",
    "        # 将变量转为gpu\n",
    "        targets = targets.cuda()\n",
    "        imgs = imgs.cuda()\n",
    "        # print(step,imgs.shape,imgs.type(),targets.shape,targets.type())\n",
    "        \n",
    "        out = model(imgs)\n",
    "        #记录混淆矩阵参数\n",
    "        conf_matrix = confusion_matrix(out, targets, conf_matrix)\n",
    "        conf_matrix=conf_matrix.cpu()\n",
    "\n",
    "conf_matrix=np.array(conf_matrix.cpu())# 将混淆矩阵从gpu转到cpu再转到np\n",
    "corrects=conf_matrix.diagonal(offset=0)#抽取对角线的每种分类的识别正确个数\n",
    "per_kinds=conf_matrix.sum(axis=1)#抽取每个分类数据总的测试条数\n",
    "\n",
    "print(\"混淆矩阵总元素个数：{0},测试集总个数:{1}\".format(int(np.sum(conf_matrix)),test_num))\n",
    "print(conf_matrix)\n",
    "\n",
    "# 获取每种Emotion的识别准确率\n",
    "print(\"每种情感总个数：\",per_kinds)\n",
    "print(\"每种情感预测正确的个数：\",corrects)\n",
    "print(\"每种情感的识别准确率为：{0}\".format([rate*100 for rate in corrects/per_kinds]))"
   ]
  },
  {
   "attachments": {},
   "cell_type": "markdown",
   "metadata": {},
   "source": [
    "__生成混淆矩阵__"
   ]
  },
  {
   "cell_type": "code",
   "execution_count": 8,
   "metadata": {},
   "outputs": [
    {
     "name": "stdout",
     "output_type": "stream",
     "text": [
      "[0, 0, 2, 0, 1, 2]\n",
      "[0, 2, 1, 0, 0, 1]\n",
      "conf_matrix:\n",
      " [[2 0 1]\n",
      " [1 0 0]\n",
      " [0 2 0]]\n"
     ]
    },
    {
     "data": {
      "image/png": "[encoded data removed]",
      "text/plain": [
       "<Figure size 640x480 with 2 Axes>"
      ]
     },
     "metadata": {},
     "output_type": "display_data"
    }
   ],
   "source": [
    "from sklearn.metrics import accuracy_score, precision_score, recall_score, f1_score, confusion_matrix\n",
    "import matplotlib.pyplot as plt\n",
    "trues = [0, 0, 2, 0, 1, 2]\n",
    "preds = [0, 2, 1, 0, 0, 1]\n",
    "print(trues)\n",
    "print(preds)\n",
    "def get_confusion_matrix(trues, preds):\n",
    "#   labels = [0,1,2]\n",
    "  conf_matrix = confusion_matrix(trues, preds)\n",
    "  return conf_matrix\n",
    "  \n",
    "def plot_confusion_matrix(conf_matrix):\n",
    "  plt.imshow(conf_matrix, cmap=plt.cm.Blues)\n",
    "  indices = range(conf_matrix.shape[0])\n",
    "  labels = [0,1,2]\n",
    "  plt.xticks(indices, labels)\n",
    "  plt.yticks(indices, labels)\n",
    "  plt.colorbar()\n",
    "  plt.xlabel('y_pred')\n",
    "  plt.ylabel('y_true')\n",
    "  # 显示数据\n",
    "  for first_index in range(conf_matrix.shape[0]):\n",
    "    for second_index in range(conf_matrix.shape[1]):\n",
    "      plt.text(second_index, first_index,  conf_matrix[first_index, second_index])\n",
    "  plt.savefig('heatmap_confusion_matrix.jpg')\n",
    "  plt.show()\n",
    "\n",
    "\n",
    "if __name__ == \"__main__\":\n",
    "    conf_matrix = get_confusion_matrix(trues, preds)\n",
    "    print('conf_matrix:\\n',conf_matrix)\n",
    "    plot_confusion_matrix(conf_matrix)"
   ]
  },
  {
   "cell_type": "code",
   "execution_count": 7,
   "metadata": {},
   "outputs": [
    {
     "ename": "AssertionError",
     "evalue": "Torch not compiled with CUDA enabled",
     "output_type": "error",
     "traceback": [
      "\u001b[1;31m---------------------------------------------------------------------------\u001b[0m",
      "\u001b[1;31mAssertionError\u001b[0m                            Traceback (most recent call last)",
      "Cell \u001b[1;32mIn[7], line 6\u001b[0m\n\u001b[0;32m      3\u001b[0m \u001b[39mimport\u001b[39;00m \u001b[39mtorch\u001b[39;00m\u001b[39m.\u001b[39;00m\u001b[39mbackends\u001b[39;00m\u001b[39m.\u001b[39;00m\u001b[39mcudnn\u001b[39;00m \u001b[39mas\u001b[39;00m \u001b[39mcudnn\u001b[39;00m\n\u001b[0;32m      4\u001b[0m \u001b[39mfrom\u001b[39;00m \u001b[39mtorch\u001b[39;00m\u001b[39m.\u001b[39;00m\u001b[39mautograd\u001b[39;00m \u001b[39mimport\u001b[39;00m Variable\n\u001b[1;32m----> 6\u001b[0m gpu_info \u001b[39m=\u001b[39m Variable(torch\u001b[39m.\u001b[39;49mrandn(\u001b[39m3\u001b[39;49m,\u001b[39m3\u001b[39;49m))\u001b[39m.\u001b[39;49mcuda()\n\u001b[0;32m      7\u001b[0m \u001b[39mprint\u001b[39m(gpu_info)\n",
      "File \u001b[1;32mc:\\Users\\WZY\\.conda\\envs\\pytorch_cpu\\lib\\site-packages\\torch\\cuda\\__init__.py:239\u001b[0m, in \u001b[0;36m_lazy_init\u001b[1;34m()\u001b[0m\n\u001b[0;32m    235\u001b[0m     \u001b[39mraise\u001b[39;00m \u001b[39mRuntimeError\u001b[39;00m(\n\u001b[0;32m    236\u001b[0m         \u001b[39m\"\u001b[39m\u001b[39mCannot re-initialize CUDA in forked subprocess. To use CUDA with \u001b[39m\u001b[39m\"\u001b[39m\n\u001b[0;32m    237\u001b[0m         \u001b[39m\"\u001b[39m\u001b[39mmultiprocessing, you must use the \u001b[39m\u001b[39m'\u001b[39m\u001b[39mspawn\u001b[39m\u001b[39m'\u001b[39m\u001b[39m start method\u001b[39m\u001b[39m\"\u001b[39m)\n\u001b[0;32m    238\u001b[0m \u001b[39mif\u001b[39;00m \u001b[39mnot\u001b[39;00m \u001b[39mhasattr\u001b[39m(torch\u001b[39m.\u001b[39m_C, \u001b[39m'\u001b[39m\u001b[39m_cuda_getDeviceCount\u001b[39m\u001b[39m'\u001b[39m):\n\u001b[1;32m--> 239\u001b[0m     \u001b[39mraise\u001b[39;00m \u001b[39mAssertionError\u001b[39;00m(\u001b[39m\"\u001b[39m\u001b[39mTorch not compiled with CUDA enabled\u001b[39m\u001b[39m\"\u001b[39m)\n\u001b[0;32m    240\u001b[0m \u001b[39mif\u001b[39;00m _cudart \u001b[39mis\u001b[39;00m \u001b[39mNone\u001b[39;00m:\n\u001b[0;32m    241\u001b[0m     \u001b[39mraise\u001b[39;00m \u001b[39mAssertionError\u001b[39;00m(\n\u001b[0;32m    242\u001b[0m         \u001b[39m\"\u001b[39m\u001b[39mlibcudart functions unavailable. It looks like you have a broken build?\u001b[39m\u001b[39m\"\u001b[39m)\n",
      "\u001b[1;31mAssertionError\u001b[0m: Torch not compiled with CUDA enabled"
     ]
    }
   ],
   "source": [
    "import torch.optim as optim\n",
    "import torch.utils.data\n",
    "import torch.backends.cudnn as cudnn\n",
    "from torch.autograd import Variable\n",
    "\n",
    "gpu_info = Variable(torch.randn(3,3)).cuda()\n",
    "print(gpu_info)\n",
    "\n",
    "\n"
   ]
  }
 ],
 "metadata": {
  "kernelspec": {
   "display_name": "pytorch_cpu",
   "language": "python",
   "name": "pytorch_cpu"
  },
  "language_info": {
   "codemirror_mode": {
    "name": "ipython",
    "version": 3
   },
   "file_extension": ".py",
   "mimetype": "text/x-python",
   "name": "python",
   "nbconvert_exporter": "python",
   "pygments_lexer": "ipython3",
   "version": "3.8.16"
  },
  "orig_nbformat": 4
 },
 "nbformat": 4,
 "nbformat_minor": 2
}
