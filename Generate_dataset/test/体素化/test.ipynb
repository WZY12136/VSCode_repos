{
 "cells": [
  {
   "cell_type": "code",
   "execution_count": 2,
   "metadata": {},
   "outputs": [
    {
     "name": "stdout",
     "output_type": "stream",
     "text": [
      "train_index:[1 2 3],test_index:[0]\n",
      "train_index:[0 2 3],test_index:[1]\n",
      "train_index:[0 1 3],test_index:[2]\n",
      "train_index:[0 1 2],test_index:[3]\n"
     ]
    },
    {
     "ename": "NameError",
     "evalue": "name 'i' is not defined",
     "output_type": "error",
     "traceback": [
      "\u001b[1;31m---------------------------------------------------------------------------\u001b[0m",
      "\u001b[1;31mNameError\u001b[0m                                 Traceback (most recent call last)",
      "Cell \u001b[1;32mIn[2], line 20\u001b[0m\n\u001b[0;32m     17\u001b[0m \u001b[39mfor\u001b[39;00m train_idx, test_idx \u001b[39min\u001b[39;00m loo\u001b[39m.\u001b[39msplit(data_dim1):\n\u001b[0;32m     19\u001b[0m     train_data \u001b[39m=\u001b[39m [data_dim1[i] \u001b[39mfor\u001b[39;00m i \u001b[39min\u001b[39;00m train_idx]\n\u001b[1;32m---> 20\u001b[0m     \u001b[39mprint\u001b[39m(\u001b[39m'\u001b[39m\u001b[39mtrain_i:\u001b[39m\u001b[39m'\u001b[39m,i)\n\u001b[0;32m     21\u001b[0m     test_data \u001b[39m=\u001b[39m [data_dim1[i] \u001b[39mfor\u001b[39;00m i \u001b[39min\u001b[39;00m test_idx]\n\u001b[0;32m     22\u001b[0m     \u001b[39mprint\u001b[39m(\u001b[39m'\u001b[39m\u001b[39mtest_i:\u001b[39m\u001b[39m'\u001b[39m,i)\n",
      "\u001b[1;31mNameError\u001b[0m: name 'i' is not defined"
     ]
    }
   ],
   "source": [
    "import numpy as np\n",
    "from sklearn.model_selection import LeaveOneOut\n",
    "\n",
    "data_dim1 = [1, 2, 3, 4]\n",
    "\n",
    "data_dim2 = [[5, 4, 7, 5],\n",
    "             [6, 6, 6, 4],\n",
    "             [5, 3, 4, 8],\n",
    "             [7, 2, 3, 6],\n",
    "             [6, 8, 8, 5]]\n",
    "\n",
    "loo = LeaveOneOut()\n",
    "\n",
    "for train_idx, test_idx in loo.split(data_dim1):\n",
    "    print('train_index:%s,test_index:%s'%(train_idx,test_idx))\n",
    "\n",
    "for train_idx, test_idx in loo.split(data_dim1):\n",
    "    \n",
    "    train_data = [data_dim1[i] for i in train_idx]\n",
    "    print('train_i:',i)\n",
    "    test_data = [data_dim1[i] for i in test_idx]\n",
    "    print('test_i:',i)\n",
    "    print(\"train_data: %s, test_data %s\" % (train_data, test_data))"
   ]
  }
 ],
 "metadata": {
  "kernelspec": {
   "display_name": "python pytorch_cpu",
   "language": "python",
   "name": "pytorch_cpu"
  },
  "language_info": {
   "codemirror_mode": {
    "name": "ipython",
    "version": 3
   },
   "file_extension": ".py",
   "mimetype": "text/x-python",
   "name": "python",
   "nbconvert_exporter": "python",
   "pygments_lexer": "ipython3",
   "version": "3.8.16"
  },
  "orig_nbformat": 4
 },
 "nbformat": 4,
 "nbformat_minor": 2
}
